{
 "cells": [
  {
   "cell_type": "code",
   "execution_count": 6,
   "id": "344b66a9-be7d-447a-b529-aa8a02c0501b",
   "metadata": {},
   "outputs": [],
   "source": [
    "##Q1. Create a python program to sort the given list of tuples based on integer value using a\n",
    "##lambda function.\n",
    "##[('Sachin Tendulkar', 34357), ('Ricky Ponting', 27483), ('Jack Kallis', 25534), ('Virat Kohli', 24936)]"
   ]
  },
  {
   "cell_type": "code",
   "execution_count": 7,
   "id": "4f102a0a-cb86-48da-8c79-2e4fd102a095",
   "metadata": {},
   "outputs": [],
   "source": [
    "l=[('Sachin Tendulkar', 34357), ('Ricky Ponting', 27483), ('Jack Kallis', 25534), ('Virat Kohli', 24936)]"
   ]
  },
  {
   "cell_type": "code",
   "execution_count": 8,
   "id": "45be07e5-0730-4b0c-b02b-f3ee3b5ccbf2",
   "metadata": {},
   "outputs": [],
   "source": [
    "l.sort(key=lambda x : x[1])"
   ]
  },
  {
   "cell_type": "code",
   "execution_count": 9,
   "id": "717fe403-e90a-4aa3-a958-4577e920a45d",
   "metadata": {},
   "outputs": [
    {
     "data": {
      "text/plain": [
       "[('Virat Kohli', 24936),\n",
       " ('Jack Kallis', 25534),\n",
       " ('Ricky Ponting', 27483),\n",
       " ('Sachin Tendulkar', 34357)]"
      ]
     },
     "execution_count": 9,
     "metadata": {},
     "output_type": "execute_result"
    }
   ],
   "source": [
    "l"
   ]
  },
  {
   "cell_type": "code",
   "execution_count": 10,
   "id": "ecc818e2-f7d7-4ac9-b9e1-d051ac381aa8",
   "metadata": {},
   "outputs": [],
   "source": [
    "##Q2. Write a Python Program to find the squares of all the numbers in the given list of integers using\n",
    "##lambda and map functions.\n",
    "##[1, 2, 3, 4, 5, 6, 7, 8, 9, 10]"
   ]
  },
  {
   "cell_type": "code",
   "execution_count": 11,
   "id": "f92bf15a-f1a5-4ec9-adce-46a6b30d605e",
   "metadata": {},
   "outputs": [],
   "source": [
    "a= lambda x : x**2"
   ]
  },
  {
   "cell_type": "code",
   "execution_count": 12,
   "id": "130965a0-7ef0-463b-bc25-ebea09046637",
   "metadata": {},
   "outputs": [],
   "source": [
    "l=[1, 2, 3, 4, 5, 6, 7, 8, 9, 10]"
   ]
  },
  {
   "cell_type": "code",
   "execution_count": 13,
   "id": "a64fd316-ac21-4354-af70-a509d7868ae6",
   "metadata": {},
   "outputs": [
    {
     "data": {
      "text/plain": [
       "[1, 4, 9, 16, 25, 36, 49, 64, 81, 100]"
      ]
     },
     "execution_count": 13,
     "metadata": {},
     "output_type": "execute_result"
    }
   ],
   "source": [
    "list(map(a,l))"
   ]
  },
  {
   "cell_type": "code",
   "execution_count": 14,
   "id": "edd080df-8a04-45b7-b5cd-5c70b13c2d31",
   "metadata": {},
   "outputs": [],
   "source": [
    "##Q3. Write a python program to convert the given list of integers into a tuple of strings. Use map and\n",
    "##lambda functions\n",
    "##Given String: [1, 2, 3, 4, 5, 6, 7, 8, 9, 10]\n",
    "#Expected output: ('1', '2', '3', '4', '5', '6', '7', '8', '9', '10')"
   ]
  },
  {
   "cell_type": "code",
   "execution_count": 15,
   "id": "aba9515b-4e65-4139-80db-b2ceaab33ba6",
   "metadata": {},
   "outputs": [],
   "source": [
    "a= lambda x:str(x)"
   ]
  },
  {
   "cell_type": "code",
   "execution_count": 16,
   "id": "f59d3416-a02a-4b7c-922c-e3e7e3cb0818",
   "metadata": {},
   "outputs": [],
   "source": [
    "l1=[1, 2, 3, 4, 5, 6, 7, 8, 9, 10]"
   ]
  },
  {
   "cell_type": "code",
   "execution_count": 18,
   "id": "fb5a3d2c-8798-4855-86c5-bc0eacac4395",
   "metadata": {},
   "outputs": [
    {
     "data": {
      "text/plain": [
       "['1', '2', '3', '4', '5', '6', '7', '8', '9', '10']"
      ]
     },
     "execution_count": 18,
     "metadata": {},
     "output_type": "execute_result"
    }
   ],
   "source": [
    "list(map(a,l1))"
   ]
  },
  {
   "cell_type": "code",
   "execution_count": 19,
   "id": "739766ec-d85d-4196-9b60-1c5f1137cee2",
   "metadata": {},
   "outputs": [],
   "source": [
    "##Q4. Write a python program using reduce function to compute the product of a list containing numbers\n",
    "#from 1 to 25."
   ]
  },
  {
   "cell_type": "code",
   "execution_count": 28,
   "id": "ed0dc3b4-c444-4ca6-8620-50d09f830f35",
   "metadata": {},
   "outputs": [],
   "source": [
    "from functools import reduce"
   ]
  },
  {
   "cell_type": "code",
   "execution_count": 35,
   "id": "3d108c0e-9dde-4429-8dcf-8c6b4642e691",
   "metadata": {},
   "outputs": [],
   "source": [
    "l=[x for x in range(1,26)]"
   ]
  },
  {
   "cell_type": "code",
   "execution_count": 39,
   "id": "53f4c155-ed2e-4a3d-b518-86f24ee657e0",
   "metadata": {},
   "outputs": [
    {
     "data": {
      "text/plain": [
       "15511210043330985984000000"
      ]
     },
     "execution_count": 39,
     "metadata": {},
     "output_type": "execute_result"
    }
   ],
   "source": [
    "(reduce(lambda x,y:x*y,l))"
   ]
  },
  {
   "cell_type": "code",
   "execution_count": 44,
   "id": "ff36628e-fdaa-40c2-b0b8-4ef738fa0a90",
   "metadata": {},
   "outputs": [],
   "source": [
    "##Q5. Write a python program to filter the numbers in a given list that are divisible by 2 and 3 using the\n",
    "##filter function.\n",
    "##[2, 3, 6, 9, 27, 60, 90, 120, 55, 46]"
   ]
  },
  {
   "cell_type": "code",
   "execution_count": 45,
   "id": "1df90ba9-5fda-4dd0-8ab2-7765e602d176",
   "metadata": {},
   "outputs": [],
   "source": [
    "l=[2, 3, 6, 9, 27, 60, 90, 120, 55, 46]"
   ]
  },
  {
   "cell_type": "code",
   "execution_count": 47,
   "id": "ba55df95-3396-4981-b770-36d788b6710c",
   "metadata": {},
   "outputs": [
    {
     "data": {
      "text/plain": [
       "[6, 60, 90, 120]"
      ]
     },
     "execution_count": 47,
     "metadata": {},
     "output_type": "execute_result"
    }
   ],
   "source": [
    "list(filter(lambda x:x%2==0 and x%3==0,l))"
   ]
  },
  {
   "cell_type": "code",
   "execution_count": 48,
   "id": "d3c7e496-caea-4e3f-8e8c-ed72284f2467",
   "metadata": {},
   "outputs": [],
   "source": [
    "##Q6. Write a python program to find palindromes in the given list of strings using lambda and filter\n",
    "#function.\n",
    "#['python', 'php', 'aba', 'radar', 'level']"
   ]
  },
  {
   "cell_type": "code",
   "execution_count": 50,
   "id": "443cfddb-7e67-46ef-9165-9150ee550496",
   "metadata": {},
   "outputs": [
    {
     "data": {
      "text/plain": [
       "['php', 'aba', 'radar', 'level']"
      ]
     },
     "execution_count": 50,
     "metadata": {},
     "output_type": "execute_result"
    }
   ],
   "source": [
    "l=['python', 'php', 'aba', 'radar', 'level']\n",
    "list(filter(lambda x:x[::-1]==x,l))"
   ]
  },
  {
   "cell_type": "code",
   "execution_count": null,
   "id": "c5d21ad5-296e-48a8-a611-dd0487bc449d",
   "metadata": {},
   "outputs": [],
   "source": []
  }
 ],
 "metadata": {
  "kernelspec": {
   "display_name": "Python 3 (ipykernel)",
   "language": "python",
   "name": "python3"
  },
  "language_info": {
   "codemirror_mode": {
    "name": "ipython",
    "version": 3
   },
   "file_extension": ".py",
   "mimetype": "text/x-python",
   "name": "python",
   "nbconvert_exporter": "python",
   "pygments_lexer": "ipython3",
   "version": "3.10.8"
  }
 },
 "nbformat": 4,
 "nbformat_minor": 5
}
